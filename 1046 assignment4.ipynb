{
  "nbformat": 4,
  "nbformat_minor": 0,
  "metadata": {
    "colab": {
      "provenance": []
    },
    "kernelspec": {
      "name": "python3",
      "display_name": "Python 3"
    },
    "language_info": {
      "name": "python"
    }
  },
  "cells": [
    {
      "cell_type": "code",
      "source": [
        "import random\n",
        "\n",
        "def estimate_pi(num_points):\n",
        "  inside = 0\n",
        "\n",
        "  for _ in range(num_points):\n",
        "    x = random.random()\n",
        "    y = random.random()\n",
        "    if x*x + y*y <= 1:\n",
        "      inside += 1\n",
        "\n",
        "  pi = 4 * inside / num_points\n",
        "  print(\"Estimated pi for \", num_points, \"point is: \", pi)\n",
        "\n",
        "estimate_pi(1000)\n",
        "estimate_pi(5000)"
      ],
      "metadata": {
        "colab": {
          "base_uri": "https://localhost:8080/"
        },
        "id": "0C2OqPEA1b62",
        "outputId": "76b103b1-4c8e-4c99-8f37-ee2df759e883"
      },
      "execution_count": 17,
      "outputs": [
        {
          "output_type": "stream",
          "name": "stdout",
          "text": [
            "Estimated pi for  1000 point is:  3.16\n",
            "Estimated pi for  5000 point is:  3.144\n"
          ]
        }
      ]
    },
    {
      "cell_type": "code",
      "source": [
        "import random\n",
        "\n",
        "R = 46\n",
        "radius = R / 10\n",
        "name = \"Nafis Imam\"\n",
        "num_letters = len(name.replace(\" \", \"\"))\n",
        "total_points = 200 * num_letters\n",
        "\n",
        "print(\"Total point: \", total_points)\n"
      ],
      "metadata": {
        "colab": {
          "base_uri": "https://localhost:8080/"
        },
        "id": "pZQJ1BQW2VhG",
        "outputId": "f9a1e08b-4989-4297-86f5-612b3cd7df3c"
      },
      "execution_count": 18,
      "outputs": [
        {
          "output_type": "stream",
          "name": "stdout",
          "text": [
            "Total point:  1800\n"
          ]
        }
      ]
    },
    {
      "cell_type": "code",
      "source": [
        "import numpy as np\n",
        "\n",
        "def is_inside_circle(x, y, radius):\n",
        "    return x**2 + y**2 <= radius**2\n",
        "\n",
        "inside_count = 0\n",
        "outside_count = 0\n",
        "\n",
        "for _ in range(total_points // 2):\n",
        "    x = random.uniform(0, radius)\n",
        "    y = random.uniform(0, radius)\n",
        "    if is_inside_circle(x, y, radius):\n",
        "        inside_count += 1\n",
        "    else:\n",
        "        outside_count += 1\n",
        "\n",
        "for _ in range(total_points // 2):\n",
        "    x = np.random.rand() * radius\n",
        "    y = np.random.rand() * radius\n",
        "    if is_inside_circle(x, y, radius):\n",
        "        inside_count += 1\n",
        "    else:\n",
        "        outside_count += 1\n",
        "\n",
        "print(f\"Inside circle: {inside_count}\")\n",
        "print(f\"Outside circle: {outside_count}\")\n"
      ],
      "metadata": {
        "colab": {
          "base_uri": "https://localhost:8080/"
        },
        "id": "bBS6mSPW2ZEW",
        "outputId": "6bd02def-1526-485c-8e1a-b34fccd037a3"
      },
      "execution_count": 19,
      "outputs": [
        {
          "output_type": "stream",
          "name": "stdout",
          "text": [
            "Inside circle: 1391\n",
            "Outside circle: 409\n"
          ]
        }
      ]
    },
    {
      "cell_type": "code",
      "source": [
        "import math\n",
        "from tabulate import tabulate\n",
        "\n",
        "min_points = 200 * num_letters  # 1400\n",
        "\n",
        "def run_simulation(total_points):\n",
        "    half = total_points // 2\n",
        "\n",
        "    estimated_pi = 4 * (inside_count / total_points)\n",
        "    error = abs(math.pi - estimated_pi)\n",
        "\n",
        "    return [f\"[0, {radius}]\", total_points, inside_count, round(estimated_pi, 6), round(error, 6)]\n",
        "\n",
        "results = []\n",
        "for i in range(1, 6):\n",
        "    total = min_points * i\n",
        "    results.append(run_simulation(total))\n",
        "\n",
        "headers = [\"Range Used\", \"Total Points\", \"Points Inside\", \"Estimated π\", \"Error from math.pi\"]\n",
        "print(tabulate(results, headers=headers, tablefmt=\"github\"))"
      ],
      "metadata": {
        "colab": {
          "base_uri": "https://localhost:8080/"
        },
        "id": "IS66OoCp2cM2",
        "outputId": "52dce467-66fc-49c3-a025-d4b0adf85d14"
      },
      "execution_count": 16,
      "outputs": [
        {
          "output_type": "stream",
          "name": "stdout",
          "text": [
            "| Range Used   |   Total Points |   Points Inside |   Estimated π |   Error from math.pi |\n",
            "|--------------|----------------|-----------------|---------------|----------------------|\n",
            "| [0, 5.5]     |           2200 |            1737 |      3.15818  |             0.016589 |\n",
            "| [0, 5.5]     |           4400 |            1737 |      1.57909  |             1.5625   |\n",
            "| [0, 5.5]     |           6600 |            1737 |      1.05273  |             2.08887  |\n",
            "| [0, 5.5]     |           8800 |            1737 |      0.789545 |             2.35205  |\n",
            "| [0, 5.5]     |          11000 |            1737 |      0.631636 |             2.50996  |\n"
          ]
        }
      ]
    }
  ]
}